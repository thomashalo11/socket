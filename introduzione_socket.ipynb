{
 "cells": [
  {
   "cell_type": "markdown",
   "metadata": {},
   "source": [
    "Introduzione alle socket in python"
   ]
  },
  {
   "cell_type": "markdown",
   "metadata": {},
   "source": [
    "Le socket sono uno strumento importante per la comunicazione tra processi su una rete, sia su Internet che su una rete locale.\n",
    "In Python, le socket possono essere utilizzate sia per la comunicazione tramite il protocollo UDP (User Datagram Protocol),\n",
    "che è un protocollo di trasmissione di dati senza connessione, che TCP (Trasmission Control Protocol) con connessione.\n",
    "Per creare una socket in Python, utilizziamo il metodo socket() del modulo socket. Il metodo accetta due parametri: la famiglia\n",
    "di indirizzi (ad esempio, socket.AF_INET per IPv4) e il tipo di socket (ad esempio, socket.SOCK_STREAM per TCP o\n",
    "socket.SOCK_DGRAM per UDP)."
   ]
  },
  {
   "cell_type": "markdown",
   "metadata": {},
   "source": [
    "Socket UDP"
   ]
  },
  {
   "cell_type": "markdown",
   "metadata": {},
   "source": [
    "Le socket UDP sono utilizzate per inviare e ricevere pacchetti di dati tra due dispositivi senza l'instaurazione di una\n",
    "connessione prima della trasmissione dei dati. Questo rende le socket UDP molto utili per la trasmissione di dati in tempo reale\n",
    "come audio e video. Inoltre, il fatto che non ci sia una connessione pre-stabilita significa che le socket UDP sono adatte per la\n",
    "trasmissione di dati a più destinazioni contemporaneamente."
   ]
  },
  {
   "cell_type": "markdown",
   "metadata": {},
   "source": [
    "In Python, il modulo socket fornisce un'interfaccia per creare e gestire le socket UDP. Le primitive principali che possono\n",
    "essere utilizzate con le socket UDP includono:"
   ]
  },
  {
   "cell_type": "markdown",
   "metadata": {},
   "source": [
    "1. socket(): questa funzione viene utilizzata per creare una nuova socket UDP. Restituisce un oggetto socket che può\n",
    "essere utilizzato per inviare e ricevere dati."
   ]
  },
  {
   "cell_type": "code",
   "execution_count": null,
   "metadata": {},
   "outputs": [],
   "source": [
    "import socket\n",
    "# Creazione della socket UDP\n",
    "sock = socket.socket(socket.AF_INET, socket.SOCK_DGRAM)"
   ]
  },
  {
   "cell_type": "markdown",
   "metadata": {},
   "source": [
    "1. bind(): questa funzione viene utilizzata per associare una socket a un indirizzo e una porta specifici del server. Una volta\n",
    "associata, la socket sarà in grado di ricevere i dati inviati a quell'indirizzo e porta specifici. Il metodo accetta un parametro,\n",
    "una tupla contenente l'indirizzo IP e numero di porta"
   ]
  },
  {
   "cell_type": "code",
   "execution_count": null,
   "metadata": {},
   "outputs": [],
   "source": [
    "# Associazione della socket all' indirizzo e alla porta del server\n",
    "server_address = ('127.0.0.1', 10000)\n",
    "sock.bind(server_address)"
   ]
  },
  {
   "cell_type": "markdown",
   "metadata": {},
   "source": [
    "1. sendto(): questa funzione viene utilizzata per inviare un messaggio a un indirizzo e una porta specifici. In una socket\n",
    "UDP, il messaggio inviato viene suddiviso in pacchetti e inviato tramite la rete. Non viene effettuato alcun controllo sulla\n",
    "ricezione del messaggio."
   ]
  },
  {
   "cell_type": "code",
   "execution_count": null,
   "metadata": {},
   "outputs": [],
   "source": [
    "# Invio di un messaggio alla socket del client\n",
    "message = b'Hello, client!'\n",
    "client_address = ('localhost', 10001)\n",
    "sock.sendto(message, client_address)"
   ]
  },
  {
   "cell_type": "markdown",
   "metadata": {},
   "source": [
    "4 recvfrom(): questa funzione viene utilizzata per ricevere un messaggio inviato a una socket specifica. Essa restituisce il\n",
    "messaggio ricevuto e l'indirizzo e la porta del mittente del messaggio."
   ]
  },
  {
   "cell_type": "code",
   "execution_count": null,
   "metadata": {},
   "outputs": [],
   "source": [
    "# Ricezione di un messaggio dalla socket del client\n",
    "data, address = sock.recvfrom(4096)"
   ]
  },
  {
   "cell_type": "markdown",
   "metadata": {},
   "source": [
    "Esempio completo di un server e un client che comunicano tramite socket UDP in Python potrebbe essere il seguente:\n",
    "nb: il codice va eseguito il locale"
   ]
  },
  {
   "cell_type": "code",
   "execution_count": null,
   "metadata": {},
   "outputs": [],
   "source": [
    "import socket\n",
    "\n",
    "SERVER_IP = \"127.0.0.1\"\n",
    "SERVER_PORT = 5005\n",
    "BUFFER_SIZE = 1024\n",
    "\n",
    "# Creazione della socket\n",
    "sock = socket.socket(socket.AF_INET, socket.SOCK_DGRAM)\n",
    "sock.bind((SERVER_IP, SERVER_PORT))\n",
    "\n",
    "print(\"Server in attesa di messaggi... \")\n",
    "\n",
    "while True:\n",
    "    # Ricezione dei dati del clinet\n",
    "    data, addr = sock.recfrom(BUFFER_SIZE)\n",
    "    print(f\"Messaggio ricevuto dal client {addr}: {data.decode()}\")\n",
    "\n",
    "    # Invio di una risposta al clinet\n",
    "    reply = \"pong\"\n",
    "    sock.sendto(reply.encode(), addr)"
   ]
  },
  {
   "cell_type": "code",
   "execution_count": null,
   "metadata": {},
   "outputs": [],
   "source": [
    "import socket\n",
    "\n",
    "SERVER_IP = \"127.0.0.1\"\n",
    "SERVER_PORT = 5005\n",
    "BUFFER_SIZE = 1024\n",
    "NUM_MESSAGES = 5\n",
    "\n",
    "# Creazione del socket\n",
    "sock = socket.socket(socket.AF_INET, socket.SOCK_DGRAM)\n",
    "\n",
    "for i in range(NUM_MESSAGES):\n",
    "    # Invio del messaggio al server\n",
    "    message = \"ping\"\n",
    "    sock.sendto(message.encode(), (SERVER_IP, SERVER_PORT))\n",
    "    print(f\"Messagio inviato al server: {message}\")\n",
    "\n",
    "    # Ricezione della risposta dal server\n",
    "    data, addr = sock.recvfrom(BUFFER_SIZE)\n",
    "    print(f\"Messagio ricevuto dal server {addr}: {data.decode()}\")\n",
    "\n",
    "# Chiusura del socket\n",
    "sock.close()"
   ]
  }
 ],
 "metadata": {
  "language_info": {
   "name": "python"
  }
 },
 "nbformat": 4,
 "nbformat_minor": 2
}
